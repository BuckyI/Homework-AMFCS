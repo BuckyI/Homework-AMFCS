{
  "nbformat": 4,
  "nbformat_minor": 0,
  "metadata": {
    "colab": {
      "provenance": [],
      "mount_file_id": "1zPi6zzaPQNRMiDphOdbeOZdM6Rz1dKaA",
      "authorship_tag": "ABX9TyOHqPLgmzWS5arwRXcOTKrk",
      "include_colab_link": true
    },
    "kernelspec": {
      "name": "python3",
      "display_name": "Python 3"
    },
    "language_info": {
      "name": "python"
    },
    "accelerator": "GPU",
    "gpuClass": "standard"
  },
  "cells": [
    {
      "cell_type": "markdown",
      "metadata": {
        "id": "view-in-github",
        "colab_type": "text"
      },
      "source": [
        "<a href=\"https://colab.research.google.com/github/BuckyI/Homework-AMFCS/blob/master/chapter2/%E7%AC%AC%E4%BA%8C%E9%A2%98.ipynb\" target=\"_parent\"><img src=\"https://colab.research.google.com/assets/colab-badge.svg\" alt=\"Open In Colab\"/></a>"
      ]
    },
    {
      "cell_type": "markdown",
      "source": [
        "深度学习训练方法总结\n",
        "\n",
        "数据集：kddcup99.zip\n",
        "\n",
        "任务描述：实现一个简单的神经网络模型判别数据包是否为 attack，网络层数不小于 5 层，\n",
        "平台不限（TensorFlow、Pytorch 等都可），例如 42->36->24->12->6->1。尝试至少 2 种\n",
        "激活函数，至少 2 种 parameter initialization 方法，至少 2 种训练方法（SGD，SGD+Momentom，Adam），训练模型并判断训练结果\n",
        "\n",
        "要求输出：\n",
        "1. 模型描述，层数，每一层参数，激活函数选择，loss 函数设置等；\\\n",
        "2. 针对不同方法组合（至少 4 个组合），plot 出随着 epoch 增长 training error 的 test error 的变化情况。\n",
        "\n",
        "> 在 colab 上运行，文件路径是谷歌云盘上的"
      ],
      "metadata": {
        "id": "ejZRsjxqZSF7"
      }
    },
    {
      "cell_type": "markdown",
      "source": [
        "# 一个简单的神经网络例子\n",
        "\n",
        "此部分不是作业内容，仅用于测试和学习  \n",
        "参考网页：https://towardsdatascience.com/your-first-neural-network-in-pytorch-725631ae0fc"
      ],
      "metadata": {
        "id": "3HfK6Hsg-YQg"
      }
    },
    {
      "cell_type": "code",
      "source": [
        "import torch\n",
        "import torch.nn as nn\n",
        "import torch.nn.functional as F\n",
        "import pandas as pd\n",
        "import matplotlib.pyplot as plt\n",
        "from sklearn.model_selection import train_test_split"
      ],
      "metadata": {
        "id": "E8i-z4ro-fRh"
      },
      "execution_count": 1,
      "outputs": []
    },
    {
      "cell_type": "markdown",
      "source": [
        "data import"
      ],
      "metadata": {
        "id": "Gs1DZnYJ_Www"
      }
    },
    {
      "cell_type": "code",
      "source": [
        "from sklearn import datasets\n",
        "\n",
        "iris = datasets.load_iris()\n",
        "X = iris['data']\n",
        "y = iris['target']\n",
        "\n",
        "X_train, X_test, y_train, y_test = train_test_split(X, y, test_size=0.2, random_state=42)\n",
        "X_train = torch.FloatTensor(X_train)\n",
        "X_test = torch.FloatTensor(X_test)\n",
        "y_train = torch.LongTensor(y_train)\n",
        "y_test = torch.LongTensor(y_test)\n",
        "\n",
        "  "
      ],
      "metadata": {
        "id": "wovrwnOo_Zpv"
      },
      "execution_count": 2,
      "outputs": []
    },
    {
      "cell_type": "markdown",
      "source": [
        "define a network\n",
        "\n",
        "- Criterion: basically how we measure loss, we’ll use `CrossEntropyLoss`\n",
        "- Optimizer: optimization algorithm, we’ll use `Adam` with a learning rate of `0.01`"
      ],
      "metadata": {
        "id": "40w1rqdMBC0X"
      }
    },
    {
      "cell_type": "code",
      "source": [
        "class ANN(nn.Module):\n",
        "    def __init__(self):\n",
        "        super().__init__()\n",
        "        self.fc1 = nn.Linear(in_features=4, out_features=16)\n",
        "        self.fc2 = nn.Linear(in_features=16, out_features=12)\n",
        "        self.output = nn.Linear(in_features=12, out_features=3)\n",
        "\n",
        "    def forward(self, x):\n",
        "        x = F.relu(self.fc1(x))\n",
        "        x = F.relu(self.fc2(x))\n",
        "        x = self.output(x)\n",
        "        return x\n",
        "\n",
        "model = ANN()\n",
        "criterion = nn.CrossEntropyLoss()\n",
        "optimizer = torch.optim.Adam(model.parameters(), lr=0.01)"
      ],
      "metadata": {
        "id": "LlfkFMbz_od4"
      },
      "execution_count": 3,
      "outputs": []
    },
    {
      "cell_type": "markdown",
      "source": [
        "<!-- 代价函数变化曲线：![](https://raw.githubusercontent.com/BuckyI/QnVja3lQaWN0dXJl/main/img/202212122152005.png) -->"
      ],
      "metadata": {
        "id": "AIgfYPMZm5F1"
      }
    },
    {
      "cell_type": "code",
      "source": [
        "%%time\n",
        "epochs = 100\n",
        "loss_arr = []\n",
        "for i in range(epochs):\n",
        "   y_hat = model.forward(X_train)\n",
        "   loss = criterion(y_hat, y_train)\n",
        "   loss_arr.append(float(loss))\n",
        " \n",
        "   if i % 10 == 0:\n",
        "       print(f'Epoch: {i} Loss: {loss}')\n",
        " \n",
        "   optimizer.zero_grad()\n",
        "   loss.backward()\n",
        "   optimizer.step()\n",
        "else:\n",
        "  plt.plot(loss_arr)"
      ],
      "metadata": {
        "colab": {
          "base_uri": "https://localhost:8080/",
          "height": 473
        },
        "id": "h3RUCPPIBw4A",
        "outputId": "81b166c4-046d-401b-932d-416c8cbdcd7a"
      },
      "execution_count": 4,
      "outputs": [
        {
          "output_type": "stream",
          "name": "stdout",
          "text": [
            "Epoch: 0 Loss: 1.281901240348816\n",
            "Epoch: 10 Loss: 0.9437583684921265\n",
            "Epoch: 20 Loss: 0.8070077300071716\n",
            "Epoch: 30 Loss: 0.7072391510009766\n",
            "Epoch: 40 Loss: 0.5758560299873352\n",
            "Epoch: 50 Loss: 0.4110664427280426\n",
            "Epoch: 60 Loss: 0.26909902691841125\n",
            "Epoch: 70 Loss: 0.16142068803310394\n",
            "Epoch: 80 Loss: 0.10058241337537766\n",
            "Epoch: 90 Loss: 0.07475380599498749\n",
            "CPU times: user 136 ms, sys: 513 ms, total: 650 ms\n",
            "Wall time: 720 ms\n"
          ]
        },
        {
          "output_type": "display_data",
          "data": {
            "text/plain": [
              "<Figure size 432x288 with 1 Axes>"
            ],
            "image/png": "[encoded data removed]"
          },
          "metadata": {
            "needs_background": "light"
          }
        }
      ]
    },
    {
      "cell_type": "markdown",
      "source": [
        "Model Evaluation\n",
        "\n",
        "这部分通过循环，依次取出一份样本，然后前向传播计算结果，并保存结果。运算效率比较低，实际上感觉矩阵运算就可以了。"
      ],
      "metadata": {
        "id": "E9h_s6DWD8Y2"
      }
    },
    {
      "cell_type": "code",
      "source": [
        "preds = []\n",
        "with torch.no_grad():\n",
        "   for val in X_test:\n",
        "       y_hat = model.forward(val)\n",
        "       preds.append(y_hat.argmax().item())\n"
      ],
      "metadata": {
        "id": "GyAXkNELCnac"
      },
      "execution_count": 5,
      "outputs": []
    },
    {
      "cell_type": "code",
      "source": [
        "df = pd.DataFrame({'Y': y_test, 'YHat': preds})\n",
        "df['Correct'] = [1 if corr == pred else 0 for corr, pred in zip(df['Y'], df['YHat'])]\n",
        "\n",
        "accuracy = df['Correct'].sum() / len(df)\n",
        "accuracy"
      ],
      "metadata": {
        "colab": {
          "base_uri": "https://localhost:8080/"
        },
        "id": "54N7HGTZCnZG",
        "outputId": "33bb5c84-7e8e-4eed-afb4-ca5485d386ae"
      },
      "execution_count": 6,
      "outputs": [
        {
          "output_type": "execute_result",
          "data": {
            "text/plain": [
              "1.0"
            ]
          },
          "metadata": {},
          "execution_count": 6
        }
      ]
    },
    {
      "cell_type": "markdown",
      "source": [
        "# 作业代码\n"
      ],
      "metadata": {
        "id": "HyMp_X2SnPhx"
      }
    },
    {
      "cell_type": "code",
      "source": [
        "import torch\n",
        "import torch.nn as nn\n",
        "import torch.utils.data as Data\n",
        "import torch.nn.functional as F\n",
        "\n",
        "import pandas as pd\n",
        "import numpy as np\n",
        "\n",
        "import matplotlib.pyplot as plt  # 绘图\n",
        "%matplotlib inline\n",
        "# %config InlineBackend.figure_format = 'svg'\n",
        "\n",
        "from tqdm import tqdm # process bar\n",
        "\n",
        "# from sklearn import ensemble\n",
        "# from sklearn import metrics\n",
        "# from sklearn import model_selection\n",
        "import warnings\n",
        "warnings.filterwarnings(\"ignore\")\n",
        "\n",
        "torch.manual_seed(1)    # reproducible\n",
        "# use gpu\n",
        "device = \"cuda\" if torch.cuda.is_available() else \"cpu\"\n",
        "print(f\"Using {device} device\")"
      ],
      "metadata": {
        "colab": {
          "base_uri": "https://localhost:8080/"
        },
        "id": "AIIcgUWonVIc",
        "outputId": "700d4bc8-19bf-49ba-bc3e-cd2384daea2a"
      },
      "execution_count": 7,
      "outputs": [
        {
          "output_type": "stream",
          "name": "stdout",
          "text": [
            "Using cuda device\n"
          ]
        }
      ]
    },
    {
      "cell_type": "markdown",
      "source": [
        "## 数据导入与预处理\n",
        "\n",
        "原始数据有字符串类型（categorical），这里使用 LabelEncoder 编码成数值类型。（类别少的时候也许使用独热码会更好？）\n",
        "\n",
        "train & test data 合并起来，可以把所有出现的情况都编码。\n",
        "\n",
        "- 使用 pandas 读取 csv 好像比 numpy 更方便一点，因为源数据并非全部是数值型的。\n",
        "- 不过后面数据全部转化为数值型后，转化为 numpy 进行索引操作更方便\n",
        "\n",
        "（还不是因为使用不熟练……只好混着用）"
      ],
      "metadata": {
        "id": "i_ZbBXUf3jJ0"
      }
    },
    {
      "cell_type": "code",
      "source": [
        "from sklearn.preprocessing import LabelEncoder\n",
        "\n",
        "kddcup99_train='/content/drive/MyDrive/Colab Notebooks/assets/kddcup99_train.csv'\n",
        "kddcup99_test='/content/drive/MyDrive/Colab Notebooks/assets/kddcup99_test.csv'\n",
        "train_data = pd.read_csv(kddcup99_train,encoding=\"utf-8\",error_bad_lines=False,header=None)\n",
        "test_data = pd.read_csv(kddcup99_test,encoding=\"utf-8\",error_bad_lines=False,header=None)\n",
        "\n",
        "# Convert categorical variable into dummy/indicator variables.\n",
        "encoders = {}\n",
        "data = pd.concat([train_data, test_data],axis=0)\n",
        "for i in [1, 2, 3, 41]:\n",
        "    enc = LabelEncoder().fit(data[i])\n",
        "    train_data[i] = enc.transform(train_data[i])\n",
        "    test_data[i] = enc.transform(test_data[i])\n",
        "    encoders[i] = enc\n",
        "\n",
        "train_data[41]=train_data[41].apply(lambda x: 0 if x==11 else 1) # 0 normal 1 abnormal\n",
        "test_data[41]=test_data[41].apply(lambda x: 0 if x==11 else 1) # 0 normal 1 abnormal\n",
        "# next transform to numpy cause i dont know pandas well qwq...\n",
        "train_data = train_data.to_numpy()\n",
        "test_data = test_data.to_numpy()\n",
        "print(\"shape\", train_data.shape, test_data.shape)"
      ],
      "metadata": {
        "colab": {
          "base_uri": "https://localhost:8080/"
        },
        "id": "Vfh9MRJMnajD",
        "outputId": "79e11172-daa4-475f-b8a8-57a7227b45f3"
      },
      "execution_count": 8,
      "outputs": [
        {
          "output_type": "stream",
          "name": "stderr",
          "text": [
            "b'Skipping line 3854675: expected 42 fields, saw 56\\n'\n"
          ]
        },
        {
          "output_type": "stream",
          "name": "stdout",
          "text": [
            "shape (3919781, 42) (978649, 42)\n"
          ]
        }
      ]
    },
    {
      "cell_type": "markdown",
      "source": [
        "将 numpy 转化为 Tensor，这里 `.to(device)` 可以进行加速\n",
        "\n",
        "注意 FloatTensor 指转化为 Float 类型的 Tensor，这与后面的代码兼容。在某些情况下。可能需要 Long 类型的 Tensor。"
      ],
      "metadata": {
        "id": "6oH2ND5A4W-F"
      }
    },
    {
      "cell_type": "code",
      "source": [
        "X_train = torch.FloatTensor(train_data[:, 0:-1]).to(device)\n",
        "y_train = torch.FloatTensor(train_data[:, -1]).to(device)\n",
        "X_test = torch.FloatTensor(test_data[:, 0:-1]).to(device)\n",
        "y_test = torch.FloatTensor(test_data[:, -1]).to(device)\n",
        "\n",
        "print(X_train.shape)\n",
        "print(y_train.shape)\n",
        "print(X_test.shape)\n",
        "print(y_test.shape)"
      ],
      "metadata": {
        "id": "N_mOhT4Yomlg",
        "colab": {
          "base_uri": "https://localhost:8080/"
        },
        "outputId": "347ac696-da5a-489d-b56d-312e8c43fcc1"
      },
      "execution_count": 9,
      "outputs": [
        {
          "output_type": "stream",
          "name": "stdout",
          "text": [
            "torch.Size([3919781, 41])\n",
            "torch.Size([3919781])\n",
            "torch.Size([978649, 41])\n",
            "torch.Size([978649])\n"
          ]
        }
      ]
    },
    {
      "cell_type": "markdown",
      "source": [
        "## 基本模型训练\n",
        "\n",
        "> 这里建立一个基本的模型进行训练，后面在此基础上更改参数之类的\n",
        "\n",
        "输入数据特征为 41 维，输出数据为 01 二分类。\n",
        "\n",
        "- 采用 41x36x24x12x6x1 的网络结构\n",
        "- 激活函数中间层普遍使用relu，输出层激活函数则是要根据任务配合loss来选择。这里是二分类问题，可以采用sigmoid和交叉熵。\n",
        "\n",
        "```\n",
        "UserWarning: nn.functional.sigmoid is deprecated. Use torch.sigmoid instead.\n",
        "  warnings.warn(\"nn.functional.sigmoid is deprecated. Use torch.sigmoid instead.\")\n",
        "```"
      ],
      "metadata": {
        "id": "Xg_jccvJ3f1L"
      }
    },
    {
      "cell_type": "code",
      "source": [
        "class Net(nn.Module):\n",
        "    def __init__(self, act=F.relu):\n",
        "        super().__init__()\n",
        "        self.hidden1 = torch.nn.Linear(41, 36)   # hidden layer\n",
        "        self.hidden2 = torch.nn.Linear(36, 24)   # hidden layer\n",
        "        self.hidden3 = torch.nn.Linear(24, 12)   # hidden layer\n",
        "        self.hidden4 = torch.nn.Linear(12, 6)   # hidden layer\n",
        "        self.predict = torch.nn.Linear(6, 1)   # output layer\n",
        "\n",
        "        self.act = act  # 激活函数\n",
        "        self.train_error = []  # 训练误差\n",
        "        self.test_error = []  # 测试误差\n",
        "\n",
        "    def forward(self, x):\n",
        "        x = self.act(self.hidden1(x))\n",
        "        x = self.act(self.hidden2(x))\n",
        "        x = self.act(self.hidden3(x))\n",
        "        x = self.act(self.hidden4(x))\n",
        "        x = F.sigmoid(self.predict(x)) # 二分类，输出层激活函数设为 sigmoid\n",
        "        return x\n",
        "\n",
        "\n"
      ],
      "metadata": {
        "id": "j8UyT3w2noJx"
      },
      "execution_count": 10,
      "outputs": []
    },
    {
      "cell_type": "markdown",
      "source": [
        "- 建立网络实例：放到 GPU 里面加速\n",
        "- 设置训练相关参数：代价函数，参数优化方法\n",
        "- 训练网络\n",
        "\n",
        "attention: \n",
        "- 性能评价函数 loss function (criterion) 和 参数优化器 optimizer 不能放到网络里面~\n",
        "- 遇到一个错误大概是说 Tensor 的形状不一样，`(n, )` 和 `(n, 1)`。  \n",
        "`y_hat.squeeze()` 减少了一个维度，`y_hat.unsqueeze(1)` 增加了一个维度，具体原理不懂 :)\n",
        "\n",
        "> https://stackoverflow.com/questions/57798033/valueerror-target-size-torch-size16-must-be-the-same-as-input-size-torch\n"
      ],
      "metadata": {
        "id": "bZh-IM0TxevC"
      }
    },
    {
      "cell_type": "code",
      "source": [
        "epochs =50\n",
        "\n",
        "model = Net().to(device)\n",
        "criterion = nn.BCELoss()  # 二分类使用\n",
        "# criterion = nn.CrossEntropyLoss()  # 多分类使用\n",
        "# mse_loss = nn.MSELoss()  # 均方误差 用这个评价测试误差和训练误差\n",
        "optimizer = torch.optim.Adam(model.parameters(), lr=0.01)\n",
        "\n",
        "for i in tqdm(range(epochs)):\n",
        "    y_hat = model(X_train)\n",
        "    y_hat = y_hat.squeeze()\n",
        "    loss = criterion(y_hat, y_train)\n",
        "\n",
        "    # save nessensary data (divide by the number of samples)\n",
        "    model.train_error.append(float(loss))\n",
        "    with torch.no_grad():\n",
        "        y_test_hat = model(X_test)\n",
        "        y_test_hat = y_test_hat.squeeze()\n",
        "        model.test_error.append(float(criterion(y_test_hat, y_test)))\n",
        "\n",
        "    # update\n",
        "    optimizer.zero_grad()\n",
        "    loss.backward()\n",
        "    optimizer.step()\n",
        "   \n",
        "else:\n",
        "    plt.plot(model.train_error, label='train error')\n",
        "    plt.plot(model.test_error, label='test error')\n",
        "    plt.legend()\n"
      ],
      "metadata": {
        "colab": {
          "base_uri": "https://localhost:8080/",
          "height": 282
        },
        "id": "FwFRyldboFvU",
        "outputId": "ba3ba5b1-35ce-4392-9580-ef0c910a7d53"
      },
      "execution_count": 11,
      "outputs": [
        {
          "output_type": "stream",
          "name": "stderr",
          "text": [
            "100%|██████████| 50/50 [00:05<00:00,  8.36it/s]\n"
          ]
        },
        {
          "output_type": "display_data",
          "data": {
            "text/plain": [
              "<Figure size 432x288 with 1 Axes>"
            ],
            "image/png": "[encoded data removed]"
          },
          "metadata": {
            "needs_background": "light"
          }
        }
      ]
    },
    {
      "cell_type": "markdown",
      "source": [
        "<!-- ![](https://raw.githubusercontent.com/BuckyI/QnVja3lQaWN0dXJl/main/img/202212122153279.png) -->"
      ],
      "metadata": {
        "id": "wHth32IcnIKH"
      }
    },
    {
      "cell_type": "markdown",
      "source": [
        "### 准确度测试\n",
        "\n",
        "> TypeError: can't convert cuda:0 device type tensor to numpy. Use Tensor.cpu() to copy the tensor to host memory first.\n",
        "\n",
        "由于是二分类问题，网络输出值为 0-1，~~因此用下面的方法计算准确度~~。会导致内存不够，不知道怎么判断了……\n"
      ],
      "metadata": {
        "id": "cwMDlRx93tui"
      }
    },
    {
      "cell_type": "code",
      "source": [
        "# with torch.no_grad():\n",
        "#     y_hat = model(X_test)\n",
        "\n",
        "#     result = y_hat.cpu().numpy() > 0.5\n"
      ],
      "metadata": {
        "id": "zR1vrMB5cj7E"
      },
      "execution_count": 12,
      "outputs": []
    },
    {
      "cell_type": "markdown",
      "source": [
        "这部分是取出一部分测试数据进行判断"
      ],
      "metadata": {
        "id": "oOwcJeegsAfF"
      }
    },
    {
      "cell_type": "code",
      "source": [
        "# preds = []\n",
        "# pred_num = 500\n",
        "\n",
        "# with torch.no_grad():\n",
        "#    for val in X_test[:pred_num,:]:\n",
        "#        y_hat = model.forward(val)\n",
        "#        preds.append(y_hat.argmax().item())\n",
        "\n",
        "# df = pd.DataFrame({'Y': y_test[:pred_num], 'YHat': preds})\n",
        "# df['Correct'] = [1 if corr == pred else 0 for corr, pred in zip(df['Y'], df['YHat'])]\n",
        "\n",
        "# accuracy = df['Correct'].sum() / len(df)\n",
        "# accuracy"
      ],
      "metadata": {
        "id": "hxkNB4dioJAd"
      },
      "execution_count": 13,
      "outputs": []
    },
    {
      "cell_type": "markdown",
      "source": [
        "## 尝试不同的训练方法\n"
      ],
      "metadata": {
        "id": "zoYX55Ch42p4"
      }
    },
    {
      "cell_type": "code",
      "source": [
        "\n",
        "net_type = ['net_SGD', 'net_Momentum', 'net_RMSprop', 'net_Adam']\n",
        "\n",
        "# 为每个优化器创建一个 net\n",
        "nets = {\n",
        "    'net_SGD': Net().to(device),\n",
        "    'net_Momentum': Net().to(device),\n",
        "    'net_RMSprop': Net().to(device),\n",
        "    'net_Adam': Net().to(device)\n",
        "}\n",
        "\n",
        "\n",
        "# different optimizers\n",
        "LR=0.01\n",
        "optimizers = {\n",
        "    'opt_SGD': torch.optim.SGD(nets['net_SGD'].parameters(), lr=LR), \n",
        "    'opt_Momentum': torch.optim.SGD(nets['net_Momentum'].parameters(), lr=LR, momentum=0.8), \n",
        "    'opt_RMSprop': torch.optim.RMSprop(nets['net_RMSprop'].parameters(), lr=LR, alpha=0.9), \n",
        "    'opt_Adam': torch.optim.Adam(nets['net_Adam'].parameters(), lr=LR, betas=(0.9, 0.99))\n",
        "}\n",
        "\n",
        "loss_func = torch.nn.BCELoss()  # 二分类使用\n",
        "mse = nn.MSELoss()\n",
        "\n",
        "epochs = 50\n",
        "\n",
        "for epoch in tqdm(range(epochs)):\n",
        "    # 对每个优化器, 优化属于他的神经网络\n",
        "    for model, optimizer in zip(nets.values(), optimizers.values()):\n",
        "        y_hat = model(X_train)\n",
        "        y_hat = y_hat.squeeze()\n",
        "        loss = loss_func(y_hat, y_train)\n",
        "        \n",
        "        # save nessensary data\n",
        "        model.train_error.append(float(loss))\n",
        "        with torch.no_grad():\n",
        "            y_test_hat = model(X_test)\n",
        "            y_test_hat = y_test_hat.squeeze()\n",
        "            model.test_error.append(float(loss_func(y_test_hat, y_test)))\n",
        "        \n",
        "        # update\n",
        "        optimizer.zero_grad()\n",
        "        loss.backward()\n",
        "        optimizer.step()\n",
        "else:\n",
        "    for i, name in enumerate(net_type):\n",
        "        model = nets[name]\n",
        "        plt.subplot(2,2,i+1)\n",
        "        plt.plot(model.train_error, label='train error')\n",
        "        plt.plot(model.test_error, label='test error')\n",
        "        plt.title(name)\n",
        "        plt.legend()\n",
        "        plt.tight_layout()"
      ],
      "metadata": {
        "colab": {
          "base_uri": "https://localhost:8080/",
          "height": 314
        },
        "id": "VGX2xuO15NVS",
        "outputId": "d9390917-12d2-4640-c1fe-463219a4cd6f"
      },
      "execution_count": 14,
      "outputs": [
        {
          "output_type": "stream",
          "name": "stderr",
          "text": [
            "100%|██████████| 50/50 [00:21<00:00,  2.31it/s]\n"
          ]
        },
        {
          "output_type": "display_data",
          "data": {
            "text/plain": [
              "<Figure size 432x288 with 4 Axes>"
            ],
            "image/png": "[encoded data removed]"
          },
          "metadata": {
            "needs_background": "light"
          }
        }
      ]
    },
    {
      "cell_type": "markdown",
      "source": [
        "动量项反映了过去调整权值的经验，可以在某种程度上加速收敛（参考曲线后半段，由于临近极值点，导数小，SGD收敛速度比Momentum慢）  \n",
        "不过Adam结构收敛速度最快！\n",
        "\n",
        "<!-- ![](https://raw.githubusercontent.com/BuckyI/QnVja3lQaWN0dXJl/main/img/202212122153146.png) -->"
      ],
      "metadata": {
        "id": "Cgc5UL-NnQ9z"
      }
    },
    {
      "cell_type": "markdown",
      "source": [
        "使用 sigmoid 激活函数"
      ],
      "metadata": {
        "id": "ldEV7lLmF7bv"
      }
    },
    {
      "cell_type": "code",
      "source": [
        "net_type = ['net_SGD', 'net_Momentum', 'net_RMSprop', 'net_Adam']\n",
        "\n",
        "# 为每个优化器创建一个 net\n",
        "nets = {\n",
        "    'net_SGD': Net(F.sigmoid).to(device),\n",
        "    'net_Momentum': Net(F.sigmoid).to(device),\n",
        "    'net_RMSprop': Net(F.sigmoid).to(device),\n",
        "    'net_Adam': Net(F.sigmoid).to(device)\n",
        "}\n",
        "\n",
        "\n",
        "# different optimizers\n",
        "LR=0.01\n",
        "optimizers = {\n",
        "    'opt_SGD': torch.optim.SGD(nets['net_SGD'].parameters(), lr=LR), \n",
        "    'opt_Momentum': torch.optim.SGD(nets['net_Momentum'].parameters(), lr=LR, momentum=0.8), \n",
        "    'opt_RMSprop': torch.optim.RMSprop(nets['net_RMSprop'].parameters(), lr=LR, alpha=0.9), \n",
        "    'opt_Adam': torch.optim.Adam(nets['net_Adam'].parameters(), lr=LR, betas=(0.9, 0.99))\n",
        "}\n",
        "\n",
        "loss_func = torch.nn.BCELoss()  # 二分类使用\n",
        "mse = nn.MSELoss()\n",
        "\n",
        "epochs = 200\n",
        "\n",
        "for epoch in tqdm(range(epochs)):\n",
        "    # 对每个优化器, 优化属于他的神经网络\n",
        "    for model, optimizer in zip(nets.values(), optimizers.values()):\n",
        "        y_hat = model(X_train)\n",
        "        y_hat = y_hat.squeeze()\n",
        "        loss = loss_func(y_hat, y_train)\n",
        "        \n",
        "        # save nessensary data\n",
        "        model.train_error.append(float(loss))\n",
        "        with torch.no_grad():\n",
        "            y_test_hat = model(X_test)\n",
        "            y_test_hat = y_test_hat.squeeze()\n",
        "            model.test_error.append(float(loss_func(y_test_hat, y_test)))\n",
        "        \n",
        "        # update\n",
        "        optimizer.zero_grad()\n",
        "        loss.backward()\n",
        "        optimizer.step()\n",
        "else:\n",
        "    for i, name in enumerate(net_type):\n",
        "        model = nets[name]\n",
        "        plt.subplot(2,2,i+1)\n",
        "        plt.plot(model.train_error, label='train error')\n",
        "        plt.plot(model.test_error, label='test error')\n",
        "        plt.title(name)\n",
        "        plt.legend()\n",
        "        plt.tight_layout()"
      ],
      "metadata": {
        "colab": {
          "base_uri": "https://localhost:8080/",
          "height": 314
        },
        "id": "GW5LNv3iFAjd",
        "outputId": "4b6d3fc5-d702-47b0-8c96-a914da2311f6"
      },
      "execution_count": 15,
      "outputs": [
        {
          "output_type": "stream",
          "name": "stderr",
          "text": [
            "100%|██████████| 200/200 [01:26<00:00,  2.31it/s]\n"
          ]
        },
        {
          "output_type": "display_data",
          "data": {
            "text/plain": [
              "<Figure size 432x288 with 4 Axes>"
            ],
            "image/png": "[encoded data removed]"
          },
          "metadata": {
            "needs_background": "light"
          }
        }
      ]
    },
    {
      "cell_type": "markdown",
      "source": [
        "隐含层激活函数采用了 sigmoid 函数，层数较多，存在梯度丢失的问题，收敛速度都变慢了。  \n",
        "在这种情况下添加 momentum 的效果是最好的。\n",
        "\n",
        "<!-- ![](https://raw.githubusercontent.com/BuckyI/QnVja3lQaWN0dXJl/main/img/202212122156543.png) -->"
      ],
      "metadata": {
        "id": "vwwktUhxn6L-"
      }
    }
  ]
}